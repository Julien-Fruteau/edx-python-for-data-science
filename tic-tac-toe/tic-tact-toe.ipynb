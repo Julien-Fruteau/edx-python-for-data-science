{
 "cells": [
  {
   "cell_type": "markdown",
   "metadata": {},
   "source": [
    "# TIC-TAC-TOE"
   ]
  },
  {
   "cell_type": "markdown",
   "metadata": {},
   "source": [
    "- Tic-tac-toe (or noughts and crosses) is a simple strategy game in which two players take turns placing a mark on a 3x3 board, attempting to make a row, column, or diagonal of three with their mark.\n",
    "- In this homework, we will use the tools we've covered in the past two weeks to create a tic-tac-toe simulator, and evaluate basic winning strategies."
   ]
  },
  {
   "cell_type": "code",
   "execution_count": 2,
   "metadata": {
    "dotnet_interactive": {
     "language": "csharp"
    }
   },
   "outputs": [],
   "source": [
    "import numpy as np\n",
    "import random\n",
    "import matplotlib.pyplot as plt\n",
    "import time"
   ]
  },
  {
   "cell_type": "markdown",
   "metadata": {},
   "source": [
    "## EXERCISE 1\n",
    "\n",
    "Instructions:\n",
    "- For our tic-tac-toe board, we will use a numpy array with\n",
    "  dimension 3 by 3. Make a function create_board() that creates\n",
    "  such a board, with values of integers 0.\n",
    "- Call create_board(), and store this as board.\n",
    "  \n",
    "[#numpy](), [#init](), [#zero]()"
   ]
  },
  {
   "cell_type": "code",
   "execution_count": 3,
   "metadata": {},
   "outputs": [],
   "source": [
    "\n",
    "# let's make DIM_BOARD a GLOBAL constance since it will be used\n",
    "# latter in this homework. LEGB allows us to do so.\n",
    "DIM_BOARD = 3"
   ]
  },
  {
   "cell_type": "code",
   "execution_count": 4,
   "metadata": {},
   "outputs": [],
   "source": [
    "def create_board():\n",
    "    return(np.zeros((DIM_BOARD, DIM_BOARD), dtype=int))"
   ]
  },
  {
   "cell_type": "code",
   "execution_count": 5,
   "metadata": {},
   "outputs": [
    {
     "name": "stdout",
     "output_type": "stream",
     "text": [
      "[[0 0 0]\n",
      " [0 0 0]\n",
      " [0 0 0]]\n"
     ]
    }
   ],
   "source": [
    "board = create_board()\n",
    "print(board)"
   ]
  },
  {
   "cell_type": "markdown",
   "metadata": {},
   "source": [
    "## EXERCISE 2\n",
    "\n",
    "Instructions:\n",
    "- Players 1 and 2 will take turns changing values of this\n",
    "  array from a 0 to a 1 or 2, indicating the number of the\n",
    "  player who places there. Create a function place(board,\n",
    "  player, position) with player being the current player\n",
    "  (an integer 1 or 2), and position a tuple of length 2\n",
    "  specifying a desired location to place their marker.\n",
    "  Only allow the current player to place a piece on the board\n",
    "  (change the board position to their number)\n",
    "  if that position is empty (zero).\n",
    "- Use create_board() to store a board as board, and use place\n",
    "  to have Player 1 place a piece on spot (0, 0)."
   ]
  },
  {
   "cell_type": "code",
   "execution_count": 6,
   "metadata": {},
   "outputs": [],
   "source": [
    "def place(board, player, position):\n",
    "    if board[position] == 0:\n",
    "        board[position] = player\n",
    "    else:\n",
    "        print(\"Move not allowed at position \", position)"
   ]
  },
  {
   "cell_type": "code",
   "execution_count": 9,
   "metadata": {},
   "outputs": [
    {
     "name": "stdout",
     "output_type": "stream",
     "text": [
      "Move not allowed at position  (0, 0)\n",
      "[[1 0 0]\n",
      " [0 0 0]\n",
      " [0 0 0]]\n"
     ]
    }
   ],
   "source": [
    "place(board, 1, (0,0))\n",
    "print(board)"
   ]
  },
  {
   "cell_type": "markdown",
   "metadata": {},
   "source": [
    "## EXERCISE 3\n",
    "\n",
    "Instructions:\n",
    "- Create a function possibilities(board) that returns a list of\n",
    "  all positions (tuples) on the board that are not occupied (0).\n",
    "  (Hint: numpy.where is a handy function that returns a\n",
    "  list of indexes that meet a condition.)\n",
    "- board is already defined from previous exercises.\n",
    "  Call possibilities(board) to see what it returns!\n",
    "\n",
    "[#numpy](), [#where](), [#zip]()"
   ]
  },
  {
   "cell_type": "markdown",
   "metadata": {},
   "source": [
    "### Solution 1"
   ]
  },
  {
   "cell_type": "code",
   "execution_count": 10,
   "metadata": {},
   "outputs": [],
   "source": [
    "def possibilities(board):\n",
    "    # Let's PACK the tuple of 2 arrays returned by np.where:\n",
    "    (ind_row, ind_col) = np.where(board == 0)\n",
    "    # defined the list to be returned w/ List Comprehension:\n",
    "    list_free_pos = [(ind_row[i], ind_col[i]) for i in range(len(ind_row))]\n",
    "    return(list_free_pos)"
   ]
  },
  {
   "cell_type": "markdown",
   "metadata": {},
   "source": [
    "### Solution 2"
   ]
  },
  {
   "cell_type": "code",
   "execution_count": 18,
   "metadata": {},
   "outputs": [],
   "source": [
    "def possibilities(board):\n",
    "    (ind_row, ind_col) = np.where(board == 0)\n",
    "    # defined the list to be returned w/ List Comprehension:\n",
    "    list_free_pos = list(zip(ind_row, ind_col))\n",
    "    return(list_free_pos)"
   ]
  },
  {
   "cell_type": "code",
   "execution_count": 19,
   "metadata": {},
   "outputs": [
    {
     "name": "stdout",
     "output_type": "stream",
     "text": [
      "[(0, 1), (0, 2), (1, 0), (1, 1), (1, 2), (2, 0), (2, 1), (2, 2)]\n"
     ]
    }
   ],
   "source": [
    "print(possibilities(board))"
   ]
  },
  {
   "cell_type": "markdown",
   "metadata": {},
   "source": [
    "## EXERCISE 4\n",
    "\n",
    "Instructions:\n",
    "- Write a function random_place(board, player) that places a marker\n",
    "  for the current player at random among all the\n",
    "  available positions (those currently set to 0).\n",
    "- Find possible placements with possibilities(board).\n",
    "- Select one possible placement at random using random.choice(selection).\n",
    "- board is already defined from previous exercises.\n",
    "  Call random_place(board, player) to place a random\n",
    "  marker for Player 2, and store this as board to update its value.\n",
    "\n",
    "[#random](), [#choice]()"
   ]
  },
  {
   "cell_type": "code",
   "execution_count": 20,
   "metadata": {},
   "outputs": [],
   "source": [
    "def random_place(board, player):\n",
    "    selection = random.choice(possibilities(board))\n",
    "    place(board, player, selection)\n",
    "    return(board)"
   ]
  },
  {
   "cell_type": "code",
   "execution_count": 21,
   "metadata": {},
   "outputs": [
    {
     "name": "stdout",
     "output_type": "stream",
     "text": [
      "[[1 0 0]\n",
      " [2 0 0]\n",
      " [0 0 0]]\n"
     ]
    }
   ],
   "source": [
    "board = random_place(board, 2)\n",
    "print(board)"
   ]
  },
  {
   "cell_type": "markdown",
   "metadata": {},
   "source": [
    "## EXERCISE 5\n",
    "\n",
    "Instructions:\n",
    "- board is already defined from previous exercises.\n",
    "  Use random_place(board, player) to place three pieces on board\n",
    "  each for players 1 and 2.\n",
    "- Print board to see your result."
   ]
  },
  {
   "cell_type": "code",
   "execution_count": 22,
   "metadata": {},
   "outputs": [
    {
     "name": "stdout",
     "output_type": "stream",
     "text": [
      "[[1 0 1]\n",
      " [2 1 2]\n",
      " [1 2 2]]\n"
     ]
    }
   ],
   "source": [
    "for i in range(3):\n",
    "    for player in [1, 2]:\n",
    "        board = random_place(board, player)\n",
    "print(board)"
   ]
  },
  {
   "cell_type": "markdown",
   "metadata": {},
   "source": [
    "## EXERCISE 6\n",
    "\n",
    "Instructions:\n",
    "- Now that players may place their pieces, how will they know they've won?\n",
    "  Make a function row_win(board, player) that takes the player (integer),\n",
    "  and determines if any row consists of only their marker.\n",
    "  Have it return True if this condition is met, and False otherwise.\n",
    "- board is already defined from previous exercises.\n",
    "  Call row_win to check if Player 1 has a complete row.\n",
    "\n",
    "[#numpy](), [#all](), [#row]()"
   ]
  },
  {
   "cell_type": "code",
   "execution_count": 23,
   "metadata": {},
   "outputs": [],
   "source": [
    "def row_win(board, player):\n",
    "    for i in range(DIM_BOARD):\n",
    "        if np.all(board[i] == player):\n",
    "            return(True)\n",
    "    return(False)"
   ]
  },
  {
   "cell_type": "code",
   "execution_count": 25,
   "metadata": {},
   "outputs": [
    {
     "data": {
      "text/plain": [
       "False"
      ]
     },
     "execution_count": 25,
     "metadata": {},
     "output_type": "execute_result"
    }
   ],
   "source": [
    "row_win(board, 1)"
   ]
  },
  {
   "cell_type": "markdown",
   "metadata": {},
   "source": [
    "## EXERCISE 7\n",
    "\n",
    "Instructions:\n",
    "- Create a similar function col_win(board, player) that takes\n",
    "  the player (integer), and determines if any column consists of only\n",
    "  their marker. Have it return True if this condition is met,\n",
    "  and False otherwise.\n",
    "- board is already defined from previous exercises. Call col_win to check\n",
    "  if Player 1 has a complete column.\n",
    "\n",
    "[#numpy](), [#all](), [#column](), [#transpose]()"
   ]
  },
  {
   "cell_type": "code",
   "execution_count": 24,
   "metadata": {},
   "outputs": [],
   "source": [
    "def col_win(board, player):\n",
    "    for i in range(DIM_BOARD):\n",
    "        if np.all(np.transpose(board)[i] == player):\n",
    "            return(True)\n",
    "    return(False)"
   ]
  },
  {
   "cell_type": "code",
   "execution_count": 26,
   "metadata": {},
   "outputs": [
    {
     "data": {
      "text/plain": [
       "False"
      ]
     },
     "execution_count": 26,
     "metadata": {},
     "output_type": "execute_result"
    }
   ],
   "source": [
    "col_win(board, 1)"
   ]
  },
  {
   "cell_type": "markdown",
   "metadata": {},
   "source": [
    "## EXERCISE 8\n",
    "\n",
    "Instructions:\n",
    "- Finally, create a function diag_win(board, player) that tests if either\n",
    "  diagonal of the board consists of only their marker.\n",
    "  Have it return True if this condition is met, and False otherwise.\n",
    "- board is already defined from previous exercises.\n",
    "  Call diag_win to check if Player 1 has a complete diagonal.\n",
    "\n",
    "[#numpy](), [#all](), [#diagonal](), [#diag](), [#fliplr]()"
   ]
  },
  {
   "cell_type": "code",
   "execution_count": 27,
   "metadata": {},
   "outputs": [],
   "source": [
    "def diag_win(board, player):\n",
    "    diag1 = np.diag(board)\n",
    "    diag2 = np.diag(np.fliplr(np.transpose(board)))\n",
    "    return((np.all(diag1 == player) or np.all(diag2 == player)))"
   ]
  },
  {
   "cell_type": "code",
   "execution_count": 28,
   "metadata": {},
   "outputs": [
    {
     "data": {
      "text/plain": [
       "True"
      ]
     },
     "execution_count": 28,
     "metadata": {},
     "output_type": "execute_result"
    }
   ],
   "source": [
    "diag_win(board, 1)"
   ]
  },
  {
   "cell_type": "markdown",
   "metadata": {},
   "source": [
    "## EXERCISE 9\n",
    "\n",
    "Instructions:\n",
    "* Create a function evaluate(board) that uses row_win, col_win,\n",
    "  and diag_win functions for both players. If one of them has won,\n",
    "  return that player's number. If the board is full but no one has won,\n",
    "  return -1. Otherwise, return 0.\n",
    "* board is already defined from previous exercises. Call evaluate to see\n",
    "  if either player has won the game yet."
   ]
  },
  {
   "cell_type": "code",
   "execution_count": 29,
   "metadata": {},
   "outputs": [],
   "source": [
    "def evaluate(board):\n",
    "    winner = 0\n",
    "    for player in [1, 2]:\n",
    "        # Check if `row_win`, `col_win`, or `diag_win` apply.\n",
    "        # if so, store `player` as `winner`.\n",
    "        if (row_win(board, player) or \\\n",
    "            col_win(board, player) or \\\n",
    "            diag_win(board, player)):\n",
    "            winner = player\n",
    "    if np.all(board != 0) and winner == 0:\n",
    "        winner = -1\n",
    "    return winner"
   ]
  },
  {
   "cell_type": "code",
   "execution_count": 30,
   "metadata": {},
   "outputs": [
    {
     "data": {
      "text/plain": [
       "1"
      ]
     },
     "execution_count": 30,
     "metadata": {},
     "output_type": "execute_result"
    }
   ],
   "source": [
    "evaluate(board)"
   ]
  },
  {
   "cell_type": "markdown",
   "metadata": {},
   "source": [
    "## EXERCISE 10\n",
    "\n",
    "Instructions:\n",
    "- create_board(), random_place(board, player), and evaluate(board)\n",
    "  have been created from previous exercises. Create a function play_game()\n",
    "  that creates a board, calls alternates between two players\n",
    "  (beginning with Player 1), and evaluates the board for a winner after\n",
    "  every placement. Play the game until one player wins (returning 1 or 2\n",
    "  to reflect the winning player), or the game is a draw (returning -1).\n",
    "- Call play_game once."
   ]
  },
  {
   "cell_type": "code",
   "execution_count": 31,
   "metadata": {},
   "outputs": [],
   "source": [
    "def play_game():\n",
    "    # init game\n",
    "    board = create_board()\n",
    "    # print(board)\n",
    "    winner = 0\n",
    "    while winner == 0:\n",
    "        for player in [1, 2]:\n",
    "            random_place(board, player)\n",
    "            winner = evaluate(board)\n",
    "            # print(board)\n",
    "            if winner != 0:\n",
    "                break\n",
    "    # return(winner, board)\n",
    "    return(winner)"
   ]
  },
  {
   "cell_type": "code",
   "execution_count": 32,
   "metadata": {},
   "outputs": [
    {
     "data": {
      "text/plain": [
       "1"
      ]
     },
     "execution_count": 32,
     "metadata": {},
     "output_type": "execute_result"
    }
   ],
   "source": [
    "play_game()"
   ]
  },
  {
   "cell_type": "markdown",
   "metadata": {},
   "source": [
    "## EXERCISE 11\n",
    "\n",
    "Instructions:\n",
    "- Use the play_game() function to play 1,000 random games, where\n",
    "  Player 1 always goes first.\n",
    "- When doing this, import and use the time library to call the time\n",
    "  function both before and after playing all 1,000 games in order\n",
    "  to evaluate how long this takes per game. Print your answer.\n",
    "- The library matplotlib.pyplot has already been stored as plt.\n",
    "  Use plt.hist and plt.show to plot a histogram of the results.\n",
    "  Does Player 1 win more than Player 2? Does either player win more\n",
    "  than each player draws?\n",
    "\n",
    "[#matplotlib](), [#hist]()"
   ]
  },
  {
   "cell_type": "code",
   "execution_count": 33,
   "metadata": {},
   "outputs": [
    {
     "name": "stdout",
     "output_type": "stream",
     "text": [
      "0.0005066101551055908\n"
     ]
    },
    {
     "data": {
      "image/png": "[encoded data removed]",
      "text/plain": [
       "<Figure size 432x288 with 1 Axes>"
      ]
     },
     "metadata": {
      "needs_background": "light"
     },
     "output_type": "display_data"
    }
   ],
   "source": [
    "wins = []\n",
    "start_time = time.time()\n",
    "for i in range(1000):\n",
    "    wins.append(play_game())\n",
    "end_time = time.time()\n",
    "print((end_time - start_time) / 1000)\n",
    "plt.hist(wins)\n",
    "plt.xlabel(\"win results\")\n",
    "plt.ylabel(\"total\")\n",
    "plt.show()\n"
   ]
  },
  {
   "cell_type": "markdown",
   "metadata": {},
   "source": [
    "- We see that Player 1 wins more than Player 2, and the game sometimes ends in draws. \n",
    "- The total amount of time taken is about a few seconds, but will vary from machine to machine."
   ]
  },
  {
   "cell_type": "markdown",
   "metadata": {},
   "source": [
    "## EXERCISE 12\n",
    "\n",
    "Instructions:\n",
    "- This result is expected --- when guessing at random, it's better to go\n",
    "  first. Let's see if Player 1 can improve their strategy. create_board(),\n",
    "  random_place(board, player), and evaluate(board) have been created from\n",
    "  previous exercises. Create a function play_strategic_game(), where\n",
    "  Player 1 always starts with the middle square, and otherwise both\n",
    "  players place their markers randomly.\n",
    "- Call play_strategic_game once."
   ]
  },
  {
   "cell_type": "code",
   "execution_count": 34,
   "metadata": {},
   "outputs": [
    {
     "data": {
      "text/plain": [
       "1"
      ]
     },
     "execution_count": 34,
     "metadata": {},
     "output_type": "execute_result"
    }
   ],
   "source": [
    "def play_strategic_game():\n",
    "    board, winner = create_board(), 0\n",
    "    board[1,1] = 1\n",
    "    while winner == 0:\n",
    "        for player in [2,1]:\n",
    "            random_place(board, player)\n",
    "            winner = evaluate(board)\n",
    "            if winner != 0:\n",
    "                break\n",
    "    return winner\n",
    "\n",
    "play_strategic_game()"
   ]
  },
  {
   "cell_type": "markdown",
   "metadata": {},
   "source": [
    "## EXERCISE 13\n",
    "\n",
    "Instructions:\n",
    "- The results from Exercise 12 have been stored.\n",
    "  Use the play_strategic_game() function to play 1,000 random games.\n",
    "- Use the time libary to evaluate how long all these games takes.\n",
    "- The library matplotlib.pyplot has already been stored as plt.\n",
    "  Use plt.hist and plt.show to plot your results. Did Player 1's\n",
    "  performance improve? Does either player win more than each player draws?"
   ]
  },
  {
   "cell_type": "markdown",
   "metadata": {},
   "source": []
  },
  {
   "cell_type": "code",
   "execution_count": 35,
   "metadata": {},
   "outputs": [
    {
     "name": "stdout",
     "output_type": "stream",
     "text": [
      "0.00044101643562316896\n"
     ]
    },
    {
     "data": {
      "image/png": "[encoded data removed]",
      "text/plain": [
       "<Figure size 432x288 with 1 Axes>"
      ]
     },
     "metadata": {
      "needs_background": "light"
     },
     "output_type": "display_data"
    }
   ],
   "source": [
    "wins = []\n",
    "start_time = time.time()\n",
    "for i in range(1000):\n",
    "    wins.append(play_strategic_game())\n",
    "\n",
    "end_time = time.time()\n",
    "\n",
    "print((end_time - start_time) / 1000)\n",
    "\n",
    "plt.hist(wins)\n",
    "plt.xlabel(\"win results\")\n",
    "plt.ylabel(\"total\")\n",
    "plt.show()"
   ]
  },
  {
   "cell_type": "markdown",
   "metadata": {},
   "source": [
    "- Great work! Yes, starting in the middle square is a large advantage when play is otherwise random. \n",
    "- Also, each game takes less time to play, because each victory is decided earlier. Player 1 wins much more than\n",
    "Player 2, and draws are less common."
   ]
  }
 ],
 "metadata": {
  "interpreter": {
   "hash": "a3d2ae057f36eda1e4f149485633bae0a3a13d7f074d41a0d01cb7985b44f3b4"
  },
  "kernelspec": {
   "display_name": "Python 3.9.10 ('edx-python-for-data-science-3ZxHXUO0')",
   "language": "python",
   "name": "python3"
  },
  "language_info": {
   "codemirror_mode": {
    "name": "ipython",
    "version": 3
   },
   "file_extension": ".py",
   "mimetype": "text/x-python",
   "name": "python",
   "nbconvert_exporter": "python",
   "pygments_lexer": "ipython3",
   "version": "3.9.10"
  },
  "orig_nbformat": 4
 },
 "nbformat": 4,
 "nbformat_minor": 2
}
