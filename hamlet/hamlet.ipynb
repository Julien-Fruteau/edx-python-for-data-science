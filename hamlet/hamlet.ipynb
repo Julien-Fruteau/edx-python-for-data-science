{
 "cells": [
  {
   "cell_type": "markdown",
   "metadata": {},
   "source": [
    "# HAMLET"
   ]
  },
  {
   "cell_type": "code",
   "execution_count": 2,
   "metadata": {},
   "outputs": [],
   "source": [
    "import pandas as pds\n",
    "import os\n",
    "import matplotlib.pyplot as plt\n",
    "from collections import Counter"
   ]
  },
  {
   "cell_type": "code",
   "execution_count": 3,
   "metadata": {},
   "outputs": [],
   "source": [
    "def count_words_fast(text):\n",
    "    '''\n",
    "    Count the number of times each word occurs in the text (str).\n",
    "    Return a dictionnay where keys are unique words and values are\n",
    "    word counts. Skip punctuation.\n",
    "    '''\n",
    "    # 1st lower case all the words\n",
    "    text = text.lower()\n",
    "    # 2nd, skip words:\n",
    "    skips = [\".\",\",\",\";\",\":\",\"''\",'\"',\"!\",\"?\"]\n",
    "    for ch in skips:\n",
    "        text = text.replace(ch, \"\")\n",
    "\n",
    "    word_counts = Counter(text.split(\" \"))\n",
    "\n",
    "    return word_counts\n",
    "\n",
    "def read_book(title_path):\n",
    "    '''\n",
    "    Read a book and return it as a string.\n",
    "    '''\n",
    "    with open(title_path, \"r\", encoding=\"utf8\") as current_file:\n",
    "        text = current_file.read()\n",
    "        text = text.replace(\"\\n\", \"\").replace(\"\\r\", \"\")\n",
    "    return text\n",
    "\n",
    "def word_stats(word_counts):\n",
    "    '''\n",
    "    Return number of unique words and word frequencies\n",
    "    '''\n",
    "    num_unique = len(word_counts)\n",
    "    counts = word_counts.values()\n",
    "    return(num_unique, counts)"
   ]
  },
  {
   "cell_type": "markdown",
   "metadata": {},
   "source": [
    "## Exercise 1\n",
    "\n",
    "- Write a function word_count_distribution(text) that takes a book string\n",
    "  and returns a dictionary with items corresponding to the count of times\n",
    "  a collection of words appears in the translation, and values corresponding\n",
    "  to the number of number of words that appear with that frequency.\n",
    "- First use count_words_fast(text) to create a dictionary called word_counts\n",
    "  with unique words in the dictionary as keys and their frequency in the\n",
    "  book as values.\n",
    "- Next, create and return a new dictionary count_distribution with unique\n",
    "  values from word_counts as keys and their frequency as values. For example,\n",
    "  'you are what you eat' contains three words that occur once and one word\n",
    "  that occurs twice, so word_count_distribution('you are what you eat')\n",
    "  should return a dictionary {1:3, 2:1}.\n",
    "- 'Romeo and Juliet' is [stored in Hamlet/Books/English directory. Load it\n",
    "  as text using read_book]. Call word_count_distribution(text), and save the\n",
    "  result as distribution.\n"
   ]
  },
  {
   "cell_type": "markdown",
   "metadata": {},
   "source": [
    "### Solution 1"
   ]
  },
  {
   "cell_type": "code",
   "execution_count": 4,
   "metadata": {},
   "outputs": [],
   "source": [
    "def word_count_distribution(text):\n",
    "    '''\n",
    "    Returns a dictionnary which takes as keys the frequency of each independent\n",
    "    word from the text argument, and key values the frequency of the key in the\n",
    "    text. It makes use of count_words_fast(text) function.\n",
    "    '''\n",
    "    word_counts = count_words_fast(text)\n",
    "\n",
    "    count_distribution = {}\n",
    "    for word in word_counts:\n",
    "        if word_counts[word] in count_distribution:\n",
    "            count_distribution[word_counts[word]] += 1\n",
    "        else:\n",
    "            count_distribution[word_counts[word]] = 1\n",
    "    return count_distribution"
   ]
  },
  {
   "cell_type": "markdown",
   "metadata": {},
   "source": [
    "### Solution 2"
   ]
  },
  {
   "cell_type": "code",
   "execution_count": 5,
   "metadata": {},
   "outputs": [],
   "source": [
    "def word_count_distribution(text):\n",
    "    '''\n",
    "    Returns a dictionnary which takes as keys the frequency of each independent\n",
    "    word from the text argument, and key values the frequency of the key in the\n",
    "    text. It makes use of count_words_fast(text) function.\n",
    "    '''\n",
    "    word_counts = count_words_fast(text)\n",
    "\n",
    "    count_distribution = Counter()\n",
    "    for freq in word_counts.values():\n",
    "        count_distribution[freq] += 1\n",
    "\n",
    "    return count_distribution"
   ]
  },
  {
   "cell_type": "markdown",
   "metadata": {},
   "source": [
    "### Solution 3"
   ]
  },
  {
   "cell_type": "code",
   "execution_count": 6,
   "metadata": {},
   "outputs": [],
   "source": [
    "def word_count_distribution(text):\n",
    "    '''\n",
    "    Returns a dictionnary which takes as keys the frequency of each independent\n",
    "    word from the text argument, and key values the frequency of the key in the\n",
    "    text. It makes use of count_words_fast(text) function.\n",
    "    '''\n",
    "    word_counts = count_words_fast(text)\n",
    "\n",
    "    count_distribution = Counter(word_counts.values())\n",
    "\n",
    "    return count_distribution"
   ]
  },
  {
   "cell_type": "code",
   "execution_count": 8,
   "metadata": {},
   "outputs": [
    {
     "name": "stdout",
     "output_type": "stream",
     "text": [
      "Counter({1: 2854, 2: 687, 3: 302, 4: 170, 5: 134, 6: 82, 7: 70, 9: 43, 10: 39, 8: 34, 11: 29, 12: 25, 14: 21, 13: 21, 15: 17, 17: 12, 19: 12, 23: 10, 26: 10, 21: 10, 16: 10, 20: 9, 18: 9, 25: 7, 45: 6, 24: 5, 27: 5, 64: 4, 29: 4, 68: 4, 22: 4, 28: 4, 52: 3, 41: 3, 32: 3, 31: 3, 87: 3, 54: 3, 47: 3, 57: 3, 60: 2, 82: 2, 112: 2, 148: 2, 51: 2, 36: 2, 30: 2, 70: 2, 46: 2, 44: 2, 163: 2, 33: 2, 61: 2, 53: 2, 49: 2, 56: 2, 39: 2, 97: 2, 40: 2, 67: 1, 527: 1, 138: 1, 777: 1, 126: 1, 369: 1, 253: 1, 833: 1, 12183: 1, 356: 1, 240: 1, 266: 1, 137: 1, 610: 1, 286: 1, 110: 1, 88: 1, 189: 1, 504: 1, 166: 1, 279: 1, 360: 1, 35: 1, 142: 1, 58: 1, 374: 1, 74: 1, 65: 1, 96: 1, 134: 1, 79: 1, 100: 1, 80: 1, 568: 1, 359: 1, 83: 1, 229: 1, 277: 1, 260: 1, 154: 1, 135: 1, 139: 1, 111: 1, 130: 1, 59: 1, 164: 1, 103: 1, 76: 1, 37: 1, 120: 1, 50: 1, 66: 1, 71: 1, 38: 1, 153: 1, 42: 1, 113: 1, 48: 1, 117: 1, 62: 1, 34: 1})\n"
     ]
    }
   ],
   "source": [
    "text = read_book(\"./hamlet/books/English/shakespeare/Romeo and Juliet.txt\")\n",
    "distribution = word_count_distribution(text)\n",
    "print(distribution)"
   ]
  },
  {
   "cell_type": "markdown",
   "metadata": {},
   "source": [
    "## Exercise 2\n",
    "\n",
    "- Create a function more_frequent(distribution) that takes a word\n",
    "  frequency dictionary (like that made in Exercise 1) and outputs a\n",
    "  dictionary with the same keys as those in distribution (the number of\n",
    "  times a group of words appears in the text), and values corresponding to\n",
    "  the fraction of words that occur with more frequency than that key.\n",
    "- Call more_frequent(distribution)"
   ]
  },
  {
   "cell_type": "code",
   "execution_count": 10,
   "metadata": {},
   "outputs": [],
   "source": [
    "def more_frequent(distribution):\n",
    "    frequent = {}\n",
    "    sorted_dist = distribution.most_common()\n",
    "    for i in range(len(sorted_dist)):\n",
    "        more_frequent = 0\n",
    "        for j in range(i + 1, len(sorted_dist)):\n",
    "            more_frequent += sorted_dist[j][1]\n",
    "        frequent[sorted_dist[i][0]] = more_frequent\n",
    "    return frequent"
   ]
  },
  {
   "cell_type": "code",
   "execution_count": 12,
   "metadata": {},
   "outputs": [
    {
     "name": "stdout",
     "output_type": "stream",
     "text": [
      "{1: 1922, 2: 1235, 3: 933, 4: 763, 5: 629, 6: 547, 7: 477, 9: 434, 10: 395, 8: 361, 11: 332, 12: 307, 14: 286, 13: 265, 15: 248, 17: 236, 19: 224, 23: 214, 26: 204, 21: 194, 16: 184, 20: 175, 18: 166, 25: 159, 45: 153, 24: 148, 27: 143, 64: 139, 29: 135, 68: 131, 22: 127, 28: 123, 52: 120, 41: 117, 32: 114, 31: 111, 87: 108, 54: 105, 47: 102, 57: 99, 60: 97, 82: 95, 112: 93, 148: 91, 51: 89, 36: 87, 30: 85, 70: 83, 46: 81, 44: 79, 163: 77, 33: 75, 61: 73, 53: 71, 49: 69, 56: 67, 39: 65, 97: 63, 40: 61, 67: 60, 527: 59, 138: 58, 777: 57, 126: 56, 369: 55, 253: 54, 833: 53, 12183: 52, 356: 51, 240: 50, 266: 49, 137: 48, 610: 47, 286: 46, 110: 45, 88: 44, 189: 43, 504: 42, 166: 41, 279: 40, 360: 39, 35: 38, 142: 37, 58: 36, 374: 35, 74: 34, 65: 33, 96: 32, 134: 31, 79: 30, 100: 29, 80: 28, 568: 27, 359: 26, 83: 25, 229: 24, 277: 23, 260: 22, 154: 21, 135: 20, 139: 19, 111: 18, 130: 17, 59: 16, 164: 15, 103: 14, 76: 13, 37: 12, 120: 11, 50: 10, 66: 9, 71: 8, 38: 7, 153: 6, 42: 5, 113: 4, 48: 3, 117: 2, 62: 1, 34: 0}\n"
     ]
    }
   ],
   "source": [
    "print(more_frequent(distribution))"
   ]
  },
  {
   "cell_type": "markdown",
   "metadata": {},
   "source": [
    "## Exercise 3\n",
    "\n",
    "- Edit the code used to read through each of the books in our library, and store the word frequency distribution for each translation of William Shakespeare's \"Hamlet\" as a Pandas dataframe hamlets with columns named \"language\" and \"distribution\". word_count_distribution is preloaded from Exercise 1. How many translations are there? Which languages are they translated into?"
   ]
  },
  {
   "cell_type": "code",
   "execution_count": 13,
   "metadata": {},
   "outputs": [],
   "source": [
    "def clean_subdir(of_dir):\n",
    "    '''\n",
    "    Returns a list of the subdirectories of the_dir without the\n",
    "    hidden file which starts with \".\" in mac osX.\n",
    "    '''\n",
    "    return [f for f in os.listdir(of_dir) if not f.startswith(\".\")]"
   ]
  },
  {
   "cell_type": "code",
   "execution_count": 14,
   "metadata": {},
   "outputs": [
    {
     "data": {
      "text/html": [
       "<div>\n",
       "<style scoped>\n",
       "    .dataframe tbody tr th:only-of-type {\n",
       "        vertical-align: middle;\n",
       "    }\n",
       "\n",
       "    .dataframe tbody tr th {\n",
       "        vertical-align: top;\n",
       "    }\n",
       "\n",
       "    .dataframe thead th {\n",
       "        text-align: right;\n",
       "    }\n",
       "</style>\n",
       "<table border=\"1\" class=\"dataframe\">\n",
       "  <thead>\n",
       "    <tr style=\"text-align: right;\">\n",
       "      <th></th>\n",
       "      <th>language</th>\n",
       "      <th>distribution</th>\n",
       "    </tr>\n",
       "  </thead>\n",
       "  <tbody>\n",
       "    <tr>\n",
       "      <th>1</th>\n",
       "      <td>German</td>\n",
       "      <td>{1: 7379, 17: 12, 261: 1, 2: 873, 56: 1, 372: ...</td>\n",
       "    </tr>\n",
       "    <tr>\n",
       "      <th>2</th>\n",
       "      <td>English</td>\n",
       "      <td>{855: 1, 2: 647, 550: 1, 1: 5180, 8: 29, 601: ...</td>\n",
       "    </tr>\n",
       "    <tr>\n",
       "      <th>3</th>\n",
       "      <td>Portuguese</td>\n",
       "      <td>{1: 7231, 200: 1, 5: 132, 707: 1, 664: 1, 20: ...</td>\n",
       "    </tr>\n",
       "  </tbody>\n",
       "</table>\n",
       "</div>"
      ],
      "text/plain": [
       "     language                                       distribution\n",
       "1      German  {1: 7379, 17: 12, 261: 1, 2: 873, 56: 1, 372: ...\n",
       "2     English  {855: 1, 2: 647, 550: 1, 1: 5180, 8: 29, 601: ...\n",
       "3  Portuguese  {1: 7231, 200: 1, 5: 132, 707: 1, 664: 1, 20: ..."
      ]
     },
     "execution_count": 14,
     "metadata": {},
     "output_type": "execute_result"
    }
   ],
   "source": [
    "hamlets = pds.DataFrame(columns=(\"language\", \"distribution\"))\n",
    "# book_dir = \"Books\"\n",
    "book_dir = \"./hamlet/books\"\n",
    "title_num = 1\n",
    "\n",
    "for language in clean_subdir(book_dir):\n",
    "    for author in clean_subdir(book_dir + \"/\" + language):\n",
    "        for title in clean_subdir(book_dir + \"/\" + language + \"/\" + author):\n",
    "            if title == \"Hamlet.txt\":\n",
    "                inputfile = book_dir + \"/\" + language + \"/\" + author + \"/\" + \\\n",
    "                            title\n",
    "                # inputfile = data_filepath+\"Books/\"+language+\"/\"+author+\"/\"+\\\n",
    "                #             title+\".txt\"\n",
    "                text = read_book(inputfile)\n",
    "                distribution = word_count_distribution(text)\n",
    "                hamlets.loc[title_num] = language, distribution\n",
    "                title_num += 1\n",
    "hamlets\n",
    "# There are three translations: English, German, and Portuguese."
   ]
  },
  {
   "cell_type": "markdown",
   "metadata": {},
   "source": [
    "## Exercise 4\n",
    "\n",
    "- Plot the word frequency distributions of each translations on a single\n",
    "  log-log plot. Note that we have already done most of the work for you.\n",
    "  Do the distributions of each translation differ?"
   ]
  },
  {
   "cell_type": "code",
   "execution_count": 19,
   "metadata": {},
   "outputs": [
    {
     "data": {
      "image/png": "[encoded data removed]",
      "text/plain": [
       "<Figure size 432x288 with 1 Axes>"
      ]
     },
     "metadata": {
      "needs_background": "light"
     },
     "output_type": "display_data"
    }
   ],
   "source": [
    "colors = [\"crimson\", \"forestgreen\", \"blueviolet\"]\n",
    "handles, hamlet_languages = [], []\n",
    "for index in range(hamlets.shape[0]):\n",
    "    language, distribution = hamlets.language[index+1], \\\n",
    "                             hamlets.distribution[index+1]\n",
    "    dist = more_frequent(distribution)\n",
    "    plot, = plt.loglog(sorted(list(dist.keys())),\\\n",
    "                       sorted(list(dist.values()),reverse = True), \\\n",
    "                       color = colors[index], linewidth = 2)\n",
    "    handles.append(plot)\n",
    "    hamlet_languages.append(language)\n",
    "plt.title(\"Word Frequencies in Hamlet Translations\")\n",
    "xlim    = [1, 2e3]\n",
    "xlabel  = \"Frequency of Word $W$\"\n",
    "ylabel  = \"Fraction of Words\\nWith Greater Frequency than $W$\"\n",
    "plt.xlim(xlim); plt.xlabel(xlabel); plt.ylabel(ylabel)\n",
    "plt.legend(handles, hamlet_languages, loc = \"upper right\", numpoints = 1)\n",
    "plt.show()\n"
   ]
  }
 ],
 "metadata": {
  "interpreter": {
   "hash": "20569eab2003de383cc9ce4843b187107faa5a75958a18d66844b5fb0f287b17"
  },
  "kernelspec": {
   "display_name": "Python 3.10.0 ('python-wov-kgE4')",
   "language": "python",
   "name": "python3"
  },
  "language_info": {
   "codemirror_mode": {
    "name": "ipython",
    "version": 3
   },
   "file_extension": ".py",
   "mimetype": "text/x-python",
   "name": "python",
   "nbconvert_exporter": "python",
   "pygments_lexer": "ipython3",
   "version": "3.9.0"
  },
  "orig_nbformat": 4
 },
 "nbformat": 4,
 "nbformat_minor": 2
}
