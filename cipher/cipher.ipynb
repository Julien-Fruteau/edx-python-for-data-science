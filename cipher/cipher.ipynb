{
 "cells": [
  {
   "cell_type": "markdown",
   "metadata": {},
   "source": [
    "# CIPHER"
   ]
  },
  {
   "cell_type": "markdown",
   "metadata": {},
   "source": [
    "## Exercise 1\n",
    "\n",
    "Create a dictionary letters with keys consisting of the numbers from 0 to 26, and values consisting of the lowercase letters of the English alphabet, including the space ' ' at the end."
   ]
  },
  {
   "cell_type": "code",
   "execution_count": null,
   "metadata": {},
   "outputs": [],
   "source": [
    "import string"
   ]
  },
  {
   "cell_type": "code",
   "execution_count": 4,
   "metadata": {},
   "outputs": [
    {
     "name": "stdout",
     "output_type": "stream",
     "text": [
      "{0: 'a', 1: 'b', 2: 'c', 3: 'd', 4: 'e', 5: 'f', 6: 'g', 7: 'h', 8: 'i', 9: 'j', 10: 'k', 11: 'l', 12: 'm', 13: 'n', 14: 'o', 15: 'p', 16: 'q', 17: 'r', 18: 's', 19: 't', 20: 'u', 21: 'v', 22: 'w', 23: 'x', 24: 'y', 25: 'z', 26: ' '}\n"
     ]
    }
   ],
   "source": [
    "# We will consider the alphabet to be these letters, along with a space.\n",
    "alphabet = string.ascii_lowercase + \" \"\n",
    "\n",
    "# create `letters` here!\n",
    "letters = {i:alphabet[i] for i in range(len(alphabet))}\n",
    "print(letters)"
   ]
  },
  {
   "cell_type": "markdown",
   "metadata": {},
   "source": [
    "## Exercise 2 \n",
    "\n",
    "- alphabet and letters are already defined. Create a dictionary encoding with keys being the characters in alphabet and values being numbers from 0-26, shifted by an integer encryption_key=3. \n",
    "- For example, the key a should have value encryption_key, key b should have value encryption_key + 1, and so on. If any result of this addition is less than 0 or greater than 26, you can ensure the result remains within 0-26 using result % 27.\n",
    "\n",
    "[#code-tip](), [#dict](), [#init](), [#enumerate]()\n"
   ]
  },
  {
   "cell_type": "code",
   "execution_count": 6,
   "metadata": {},
   "outputs": [
    {
     "name": "stdout",
     "output_type": "stream",
     "text": [
      "{0: 'a', 1: 'b', 2: 'c', 3: 'd', 4: 'e', 5: 'f', 6: 'g', 7: 'h', 8: 'i', 9: 'j', 10: 'k', 11: 'l', 12: 'm', 13: 'n', 14: 'o', 15: 'p', 16: 'q', 17: 'r', 18: 's', 19: 't', 20: 'u', 21: 'v', 22: 'w', 23: 'x', 24: 'y', 25: 'z', 26: ' '}\n"
     ]
    }
   ],
   "source": [
    "letters = dict(enumerate(alphabet))\n",
    "print(letters)"
   ]
  },
  {
   "cell_type": "code",
   "execution_count": 8,
   "metadata": {},
   "outputs": [
    {
     "name": "stdout",
     "output_type": "stream",
     "text": [
      "{'a': 3, 'b': 4, 'c': 5, 'd': 6, 'e': 7, 'f': 8, 'g': 9, 'h': 10, 'i': 11, 'j': 12, 'k': 13, 'l': 14, 'm': 15, 'n': 16, 'o': 17, 'p': 18, 'q': 19, 'r': 20, 's': 21, 't': 22, 'u': 23, 'v': 24, 'w': 25, 'x': 26, 'y': 0, 'z': 1, ' ': 2}\n"
     ]
    }
   ],
   "source": [
    "encryption_key = 3\n",
    "encoding = {letters[i]:(encryption_key + i) % 27 for i in letters.keys()}\n",
    "print(encoding)"
   ]
  },
  {
   "cell_type": "markdown",
   "metadata": {},
   "source": [
    "## Exercise 3\n",
    "\n",
    "- alphabet and letters are preloaded from the previous exercise.\n",
    "  Write a function caesar(message, encryption_key) to encode a\n",
    "  message with the Caesar cipher.\n",
    "- Use your code from Exercise 2 to find the value of encoding for\n",
    "  each letter in message.\n",
    "- Use these values as keys in the dictionary letters to determine\n",
    "  the encoded letter for each letter in message.\n",
    "- Your function should return a string consisting of these encoded letters.\n",
    "- Use caesar to encode message using encryption_key = 3, and save the\n",
    "  result as encoded_message.\n",
    "- Print encoded_message.\n"
   ]
  },
  {
   "cell_type": "code",
   "execution_count": 10,
   "metadata": {},
   "outputs": [],
   "source": [
    "def caesar(message, encryption_key):\n",
    "    encoding = {letters[i]: (encryption_key + i) % 27 for i in letters.keys()}\n",
    "    encoded_message = ''.join(letters[encoding[letter]] for letter in message)\n",
    "    return encoded_message"
   ]
  },
  {
   "cell_type": "code",
   "execution_count": 11,
   "metadata": {},
   "outputs": [
    {
     "name": "stdout",
     "output_type": "stream",
     "text": [
      "klcpacqdphclvcfdhvdu\n"
     ]
    }
   ],
   "source": [
    "message = \"hi my name is caesar\"\n",
    "encoded_message = caesar(message, encryption_key=3)\n",
    "print(encoded_message)"
   ]
  },
  {
   "cell_type": "markdown",
   "metadata": {},
   "source": [
    "## Exercise 4\n",
    "\n",
    "- Note that encoded_message is already loaded from the previous problem.\n",
    "  Use caesar to decode encoded_message using encryption_key = -3.\n",
    "- Store your decoded message as decoded_message.\n",
    "- Print decoded_message. Does this recover your original message?"
   ]
  },
  {
   "cell_type": "code",
   "execution_count": 13,
   "metadata": {},
   "outputs": [
    {
     "name": "stdout",
     "output_type": "stream",
     "text": [
      "hi my name is caesar\n"
     ]
    }
   ],
   "source": [
    "decoded_message = caesar(encoded_message, encryption_key=-3)\n",
    "print(decoded_message)"
   ]
  },
  {
   "cell_type": "code",
   "execution_count": 14,
   "metadata": {},
   "outputs": [],
   "source": [
    "assert decoded_message == message"
   ]
  }
 ],
 "metadata": {
  "interpreter": {
   "hash": "aee8b7b246df8f9039afb4144a1f6fd8d2ca17a180786b69acc140d282b71a49"
  },
  "kernelspec": {
   "display_name": "Python 3.10.0 64-bit",
   "language": "python",
   "name": "python3"
  },
  "language_info": {
   "codemirror_mode": {
    "name": "ipython",
    "version": 3
   },
   "file_extension": ".py",
   "mimetype": "text/x-python",
   "name": "python",
   "nbconvert_exporter": "python",
   "pygments_lexer": "ipython3",
   "version": "3.10.0"
  },
  "orig_nbformat": 4
 },
 "nbformat": 4,
 "nbformat_minor": 2
}
